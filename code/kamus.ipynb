{
 "cells": [
  {
   "cell_type": "code",
   "execution_count": 2,
   "metadata": {},
   "outputs": [],
   "source": [
    "import pandas as pd #pip install pandas openpyxl"
   ]
  },
  {
   "cell_type": "code",
   "execution_count": 3,
   "metadata": {},
   "outputs": [],
   "source": [
    "#input data dari explorasi data A\n",
    "df = pd.read_excel(\"D:\\Semester 7\\TA\\draft_multiapp\\data\\data_template.xlsx\", \n",
    "                       engine='openpyxl',\n",
    "                       sheet_name='Peg tetap',\n",
    "                       usecols='A:AK',\n",
    "                       nrows=2668,\n",
    "                       )"
   ]
  },
  {
   "cell_type": "code",
   "execution_count": 4,
   "metadata": {},
   "outputs": [
    {
     "data": {
      "text/plain": [
       "0.0698"
      ]
     },
     "execution_count": 4,
     "metadata": {},
     "output_type": "execute_result"
    }
   ],
   "source": [
    "# tingkat bunga aktuaria\n",
    "tingkat_bunga = 0.0698\n",
    "tingkat_bunga"
   ]
  },
  {
   "cell_type": "code",
   "execution_count": 5,
   "metadata": {},
   "outputs": [
    {
     "data": {
      "text/plain": [
       "0.025"
      ]
     },
     "execution_count": 5,
     "metadata": {},
     "output_type": "execute_result"
    }
   ],
   "source": [
    "# tingkat kenaikan gaji\n",
    "tingkat_kenaikan_gaji = 0.025\n",
    "tingkat_kenaikan_gaji"
   ]
  },
  {
   "cell_type": "code",
   "execution_count": 6,
   "metadata": {},
   "outputs": [],
   "source": [
    "# replacement ratio\n",
    "replacement_ratio_max = 0.75\n",
    "replacement_ratio_min = 0.4\n",
    "pensiun_normal_ratio = 0.025\n",
    "masa_kerja_minimal = 20"
   ]
  },
  {
   "cell_type": "code",
   "execution_count": 7,
   "metadata": {},
   "outputs": [],
   "source": [
    "# --- BENEFIT DI DATA ---\n",
    "\n",
    "#Kolom Gapok Terakhir\n",
    "if \"Gapok Terakhir\" not in df:\n",
    "    if tingkat_kenaikan_gaji > 0:\n",
    "        df[\"Gapok Terakhir\"] = df[\"Gaji Pokok\"] * (1+tingkat_kenaikan_gaji) ** (df[\"Usia Pensiun (r) \"]-df[\"Usia sekarang (x)\"]-1)\n",
    "        "
   ]
  },
  {
   "cell_type": "code",
   "execution_count": 8,
   "metadata": {},
   "outputs": [],
   "source": [
    "#Kolom Benefit Pensiun Normal 1 Bulan\n",
    "if \"Benefit Pensiun Normal (1 Bulan)\" not in df:\n",
    "    if tingkat_kenaikan_gaji > 0:\n",
    "        df[\"Benefit Pensiun Normal (1 Bulan)\"] = 0.025 * df[\"Total Masa Kerja Harapan (MK)\"] * df[\"Gapok Terakhir\"]\n",
    "#format nilai dalam rupiah\n",
    "#st.session_state.df[\"Benefit Pensiun Normal (1 Bulan)\"] = st.session_state.df[\"Benefit Pensiun Normal (1 Bulan)\"].map('Rp{:,.2f}'.format)"
   ]
  },
  {
   "cell_type": "code",
   "execution_count": 9,
   "metadata": {},
   "outputs": [],
   "source": [
    "#Kolom Benefit Pensiun Normal 1 Tahun\n",
    "if \"Benefit Pensiun Normal (1 Tahun)\" not in df:\n",
    "    if tingkat_kenaikan_gaji > 0:\n",
    "        df[\"Benefit Pensiun Normal (1 Tahun)\"] = df[\"Benefit Pensiun Normal (1 Bulan)\"] * 12"
   ]
  },
  {
   "cell_type": "code",
   "execution_count": 12,
   "metadata": {},
   "outputs": [],
   "source": [
    "# Kolom Benefit Pensiun Normal 1 Bulan (Taspen)\n",
    "if \"Benefit Pensiun Normal Taspen (1 Bulan)\" not in df:\n",
    "    if tingkat_kenaikan_gaji > 0:\n",
    "        condition_1 = df[\"Total Masa Kerja Harapan (MK)\"] >= 20\n",
    "        condition_2 = df[\"Total Masa Kerja Harapan (MK)\"] > replacement_ratio_max / pensiun_normal_ratio\n",
    "        condition_3 = df[\"Total Masa Kerja Harapan (MK)\"] < replacement_ratio_min / pensiun_normal_ratio\n",
    "\n",
    "        # Use boolean indexing to set values based on conditions\n",
    "        df.loc[condition_1 & condition_2, \"Benefit Pensiun Normal Taspen(1 Bulan)\"] = replacement_ratio_max * df.loc[condition_1 & condition_2, \"Gapok Terakhir\"]\n",
    "        df.loc[condition_1 & condition_3, \"Benefit Pensiun Normal Taspen(1 Bulan)\"] = replacement_ratio_min * df.loc[condition_1 & condition_3, \"Gapok Terakhir\"]\n",
    "        df.loc[(condition_1 & ~(condition_2 | condition_3)), \"Benefit Pensiun Normal Taspen(1 Bulan)\"] = pensiun_normal_ratio * df.loc[(condition_1 & ~(condition_2 | condition_3)), \"Total Masa Kerja Harapan (MK)\"] * df.loc[(condition_1 & ~(condition_2 | condition_3)), \"Gapok Terakhir\"]\n",
    "    else:\n",
    "        df[\"Benefit Pensiun Normal Taspen(1 Bulan)\"] = 0\n",
    "df.head(20)\n",
    "\n",
    "# Specify the file path where you want to save the Excel file\n",
    "excel_file_path = 'D:\\Semester 7\\TA\\draft_multiapp\\data\\data_template2.xlsx'\n",
    "\n",
    "# Export the DataFrame to an Excel file\n",
    "df.to_excel(excel_file_path, index=False)"
   ]
  }
 ],
 "metadata": {
  "kernelspec": {
   "display_name": "Python 3",
   "language": "python",
   "name": "python3"
  },
  "language_info": {
   "codemirror_mode": {
    "name": "ipython",
    "version": 3
   },
   "file_extension": ".py",
   "mimetype": "text/x-python",
   "name": "python",
   "nbconvert_exporter": "python",
   "pygments_lexer": "ipython3",
   "version": "3.11.5"
  }
 },
 "nbformat": 4,
 "nbformat_minor": 2
}
